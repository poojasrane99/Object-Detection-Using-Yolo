{
 "cells": [
  {
   "cell_type": "code",
   "execution_count": 1,
   "metadata": {},
   "outputs": [
    {
     "name": "stdout",
     "output_type": "stream",
     "text": [
      "C:\\Users\\Rane\\Desktop\\Paralleldots\n"
     ]
    }
   ],
   "source": [
    "  \n",
    "import glob, os\n",
    "# Current directory\n",
    "\n",
    "current_dir = os.path.abspath('')\n",
    "\n",
    "print(current_dir)\n",
    "current_dir = 'image'\n",
    "# Percentage of images to be used for the test set\n",
    "percentage_test = 20;\n",
    "# Create and/or truncate train.txt and test.txt\n",
    "file_train = open('train.txt', 'w')  \n",
    "file_test = open('test.txt', 'w')\n",
    "# Populate train.txt and test.txt\n",
    "counter = 1  \n",
    "index_test = round(100 / percentage_test)  \n",
    "for pathAndFilename in glob.iglob(os.path.join(current_dir, \"*.jpg\")):  \n",
    "\ttitle, ext = os.path.splitext(os.path.basename(pathAndFilename))\n",
    "\tif counter == index_test:\n",
    "\t\tcounter = 1\n",
    "\t\tfile_test.write(current_dir + \"/\" + title + '.jpg' + \"\\n\")\n",
    "\telse:\n",
    "\t\tfile_train.write(current_dir + \"/\" + title + '.jpg' + \"\\n\")\n",
    "\t\tcounter = counter + 1"
   ]
  },
  {
   "cell_type": "code",
   "execution_count": null,
   "metadata": {},
   "outputs": [],
   "source": []
  }
 ],
 "metadata": {
  "kernelspec": {
   "display_name": "Python 3",
   "language": "python",
   "name": "python3"
  },
  "language_info": {
   "codemirror_mode": {
    "name": "ipython",
    "version": 3
   },
   "file_extension": ".py",
   "mimetype": "text/x-python",
   "name": "python",
   "nbconvert_exporter": "python",
   "pygments_lexer": "ipython3",
   "version": "3.8.5"
  }
 },
 "nbformat": 4,
 "nbformat_minor": 4
}
